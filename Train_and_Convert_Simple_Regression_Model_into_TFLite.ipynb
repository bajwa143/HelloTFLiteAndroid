{
  "nbformat": 4,
  "nbformat_minor": 0,
  "metadata": {
    "colab": {
      "name": "Train and Convert Simple Regression Model into TFLite.ipynb",
      "provenance": [],
      "collapsed_sections": []
    },
    "kernelspec": {
      "name": "python3",
      "display_name": "Python 3"
    }
  },
  "cells": [
    {
      "cell_type": "markdown",
      "metadata": {
        "id": "A4kYrv0vlJgr",
        "colab_type": "text"
      },
      "source": [
        "### Introduction\n",
        "In this notebook, I am going to train a simple linear regression model using tensorflow. Output of this model will be converted to tensorflow lite model and used in mobile for making inference\n",
        "\n",
        "Note: This material is taken from Udacity course [Introduction to TensorFlow Lite\n",
        "](https://https://classroom.udacity.com/courses/ud190)\n"
      ]
    },
    {
      "cell_type": "code",
      "metadata": {
        "id": "HXupHdanQRuC",
        "colab_type": "code",
        "colab": {}
      },
      "source": [
        "# import tensorflow\n",
        "import tensorflow as tf\n",
        "\n",
        "# for plotting graphs\n",
        "import matplotlib.pyplot as plt\n"
      ],
      "execution_count": null,
      "outputs": []
    },
    {
      "cell_type": "markdown",
      "metadata": {
        "id": "My9eXJ1rl_4S",
        "colab_type": "text"
      },
      "source": [
        "### Create Our Dataset\n",
        "To Train our model we need dataset. In code cell below, we are using a simple data (enter manullay) to train our model.\n",
        "\n",
        "This dataset satisfies linear equation\n",
        "**y = 3x**\n",
        "and we will use it to train our linear regression model"
      ]
    },
    {
      "cell_type": "code",
      "metadata": {
        "id": "iolT-07wQXdr",
        "colab_type": "code",
        "colab": {}
      },
      "source": [
        "# using this dataset, training loss shoot to infinity in first 5 training iteration\n",
        "# TODO investigate reason\n",
        "'''\n",
        "# store data for x and y\n",
        "x = [-123, -87, -45, -15, -4, -1, 0, 1, 2, 3, 4, 10,99, 189,234,567, 2345, 8900,20000]\n",
        "y = [-369, -261, -135, -45, -12, -3, 0, 3, 6, 9, 12, 30, 297,567,702, 1701, 7035, 26700, 60000]\n",
        "\n",
        "# to ensure x and y should have same number of elements before we start working with them\n",
        "# we are using assert statement\n",
        "assert len(x)==len(y),\"Length of x and y does not match\"\n",
        "'''\n"
      ],
      "execution_count": null,
      "outputs": []
    },
    {
      "cell_type": "code",
      "metadata": {
        "id": "71JQVOuKONdX",
        "colab_type": "code",
        "colab": {}
      },
      "source": [
        "# store data for x and y\n",
        "x = [-10, -4, -1, 0, 1, 2, 3, 4, 10, 15,19]\n",
        "y = [-30, -12, -3, 0, 3, 6, 9, 12, 30, 45,57]\n",
        "\n",
        "# to ensure x and y should have same number of elements before we start working with them\n",
        "# we are using assert statement\n",
        "assert len(x)==len(y),\"Length of x and y does not match\"\n"
      ],
      "execution_count": null,
      "outputs": []
    },
    {
      "cell_type": "markdown",
      "metadata": {
        "id": "B6D8scYEC_tC",
        "colab_type": "text"
      },
      "source": [
        "#### Python Assertion\n",
        "\n",
        "Python’s assert statement is a debugging aid that tests a condition. If the condition is true, it does nothing and your program just continues to execute. But if the assert condition evaluates to false, it raises an AssertionError exception with an optional error message.\n",
        "\n",
        "**Python’s Assert Syntax**\n",
        "\n",
        "`assert_stmt ::=  \"assert\" expression [\",\" expression]`\n",
        "\n",
        "**Caution:**\n",
        "\n",
        "When you pass a tuple as the first argument in an assert statement, the assertion always evaluates as true and therefore never fails.\n",
        "\n",
        "For example, this assertion will never fail:\n",
        "\n",
        "`assert(1 == 2, 'This should fail')`\n",
        "\n",
        "Ref: [Assert Statements in Python](https://dbader.org/blog/python-assert-tutorial#:~:text=Python's%20assert%20statement%20is%20a,with%20an%20optional%20error%20message.)\n"
      ]
    },
    {
      "cell_type": "code",
      "metadata": {
        "id": "nEcUGAaAFIt-",
        "colab_type": "code",
        "colab": {
          "base_uri": "https://localhost:8080/",
          "height": 282
        },
        "outputId": "75371c48-772e-4a33-de4e-2122311d9118"
      },
      "source": [
        "plt.plot(x,y,'ro')"
      ],
      "execution_count": null,
      "outputs": [
        {
          "output_type": "execute_result",
          "data": {
            "text/plain": [
              "[<matplotlib.lines.Line2D at 0x7f69bdc59c88>]"
            ]
          },
          "metadata": {
            "tags": []
          },
          "execution_count": 84
        },
        {
          "output_type": "display_data",
          "data": {
            "image/png": "[encoded data removed]",
            "text/plain": [
              "<Figure size 432x288 with 1 Axes>"
            ]
          },
          "metadata": {
            "tags": [],
            "needs_background": "light"
          }
        }
      ]
    },
    {
      "cell_type": "markdown",
      "metadata": {
        "id": "LW1SdrZUmyWX",
        "colab_type": "text"
      },
      "source": [
        "Here we are using single dense layer and single neuron to solve problem or train model"
      ]
    },
    {
      "cell_type": "code",
      "metadata": {
        "id": "7wl3Lhy2QjxS",
        "colab_type": "code",
        "colab": {}
      },
      "source": [
        "# Create a simple Keras model\n",
        "model = tf.keras.models.Sequential([tf.keras.layers.Dense(units=1, input_shape=[1])])\n",
        "model.compile(optimizer='sgd', loss='mean_squared_error')\n",
        "model.fit(x,y,epochs=500)"
      ],
      "execution_count": null,
      "outputs": []
    },
    {
      "cell_type": "code",
      "metadata": {
        "id": "-CY3h3XMTu6K",
        "colab_type": "code",
        "colab": {
          "base_uri": "https://localhost:8080/",
          "height": 34
        },
        "outputId": "f20804cf-a0a3-4eb0-d5e2-85c6bcd59276"
      },
      "source": [
        "model.predict([5])"
      ],
      "execution_count": null,
      "outputs": [
        {
          "output_type": "execute_result",
          "data": {
            "text/plain": [
              "array([[15.000036]], dtype=float32)"
            ]
          },
          "metadata": {
            "tags": []
          },
          "execution_count": 98
        }
      ]
    },
    {
      "cell_type": "markdown",
      "metadata": {
        "id": "sRDmyDUjQfmL",
        "colab_type": "text"
      },
      "source": [
        "Now we have out trained model, we will start processing on it to convert it into tensorflow lite"
      ]
    },
    {
      "cell_type": "code",
      "metadata": {
        "id": "vhmb1HQ3RVPc",
        "colab_type": "code",
        "colab": {}
      },
      "source": [
        "# Export the SavedModel\n",
        "export_dir = '/tmp/saved_model'\n",
        "tf.saved_model.save(model,export_dir=export_dir)"
      ],
      "execution_count": null,
      "outputs": []
    },
    {
      "cell_type": "code",
      "metadata": {
        "id": "HRKB-NyoR7Sy",
        "colab_type": "code",
        "colab": {}
      },
      "source": [
        "# Convert the model\n",
        "converter = tf.lite.TFLiteConverter.from_saved_model(export_dir)\n",
        "tflite_model = converter.convert()"
      ],
      "execution_count": null,
      "outputs": []
    },
    {
      "cell_type": "code",
      "metadata": {
        "id": "_M_MhXtXSTTO",
        "colab_type": "code",
        "colab": {}
      },
      "source": [
        "# Save the tensorflow lite model\n",
        "import pathlib\n",
        "tflite_model_file = pathlib.Path('/tmp/foo.tflite')\n",
        "tflite_model_file.write_bytes(tflite_model)"
      ],
      "execution_count": null,
      "outputs": []
    }
  ]
}